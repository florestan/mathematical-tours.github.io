{
 "cells": [
  {
   "cell_type": "code",
   "execution_count": 45,
   "metadata": {},
   "outputs": [],
   "source": [
    "consumer_key = 'PUT HERE THE CODE'\n",
    "consumer_secret = 'PUT HERE THE CODE'\n",
    "access_token = 'PUT HERE THE CODE'\n",
    "access_token_secret = 'PUT HERE THE CODE'"
   ]
  },
  {
   "cell_type": "code",
   "execution_count": 1,
   "metadata": {},
   "outputs": [],
   "source": []
  },
  {
   "cell_type": "code",
   "execution_count": 2,
   "metadata": {},
   "outputs": [],
   "source": [
    "import tweepy\n",
    "import html"
   ]
  },
  {
   "cell_type": "code",
   "execution_count": 5,
   "metadata": {},
   "outputs": [],
   "source": [
    "# useful helpers\n",
    "def printlink(f,s,tid):\n",
    "    f.write('- [' + s + '](' + link_base + str(tid) + ')\\n')\n",
    "def printheader(f, subtitle):\n",
    "    f.write('---\\n')\n",
    "    f.write('layout: page\\n')\n",
    "    f.write('title: \"List of tweets\"\\n')\n",
    "    f.write('description: \"' + subtitle + '\"\\n')\n",
    "    f.write('header-img: \"img/birds.jpg\"\\n')\n",
    "    f.write('---\\n\\n\\n')"
   ]
  },
  {
   "cell_type": "code",
   "execution_count": 6,
   "metadata": {},
   "outputs": [],
   "source": [
    "auth = tweepy.OAuthHandler(consumer_key, consumer_secret)\n",
    "auth.set_access_token(access_token, access_token_secret)\n",
    "api = tweepy.API(auth)"
   ]
  },
  {
   "cell_type": "code",
   "execution_count": 8,
   "metadata": {},
   "outputs": [],
   "source": [
    "fmain = open(\"../tweets_main.md\",\"w+\")\n",
    "fold = open(\"../tweets_oldies.md\",\"w+\")\n",
    "link_base = 'https://twitter.com/gabrielpeyre/status/'\n",
    "printheader(fmain, 'Main tweets')\n",
    "printheader(fold, 'Oldies but Goldies')\n",
    "for tweet in tweepy.Cursor(api.user_timeline,\n",
    "                           include_rts=False,\n",
    "                           tweet_mode='extended').items(5000):\n",
    "    s = html.unescape(tweet.full_text)\n",
    "    s = s.replace('\\n', ' ')\n",
    "    if s[0]!='@':\n",
    "        tid = 123\n",
    "        d = str(tweet.created_at)[0:10]\n",
    "        if s[0:6]=='Oldies':\n",
    "            printlink(fold, s[20:120], tweet.id)\n",
    "        else:\n",
    "            printlink(fmain, s[0:100], tweet.id)\n",
    "fmain.close()   \n",
    "fold.close()   "
   ]
  },
  {
   "cell_type": "code",
   "execution_count": null,
   "metadata": {},
   "outputs": [],
   "source": []
  }
 ],
 "metadata": {
  "kernelspec": {
   "display_name": "Python 3",
   "language": "python",
   "name": "python3"
  },
  "language_info": {
   "codemirror_mode": {
    "name": "ipython",
    "version": 3
   },
   "file_extension": ".py",
   "mimetype": "text/x-python",
   "name": "python",
   "nbconvert_exporter": "python",
   "pygments_lexer": "ipython3",
   "version": "3.7.1"
  }
 },
 "nbformat": 4,
 "nbformat_minor": 2
}
